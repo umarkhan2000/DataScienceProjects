{
 "cells": [
  {
   "cell_type": "code",
   "execution_count": 1,
   "metadata": {},
   "outputs": [],
   "source": [
    "import tensorflow as tf\n",
    "import numpy as np\n",
    "from tensorflow import keras"
   ]
  },
  {
   "cell_type": "code",
   "execution_count": 2,
   "metadata": {},
   "outputs": [],
   "source": [
    "class myCallBack(tf.keras.callbacks.Callback):\n",
    "    def on_epoch_end(self, epoch, logs={}):\n",
    "        if(logs.get('loss')<0.4):\n",
    "            print('\\n Reached 60% accuracy so cancelling training')\n",
    "            self.model.stop_training=True"
   ]
  },
  {
   "cell_type": "code",
   "execution_count": 3,
   "metadata": {},
   "outputs": [],
   "source": [
    "callbacks = myCallBack()\n",
    "mnist = tf.keras.datasets.fashion_mnist"
   ]
  },
  {
   "cell_type": "code",
   "execution_count": 4,
   "metadata": {},
   "outputs": [],
   "source": [
    "(training_images, training_labels), (test_images, test_labels)= mnist.load_data()\n",
    "#training_images = training_images/255.0\n",
    "#test_images = test_images/255.0"
   ]
  },
  {
   "cell_type": "code",
   "execution_count": 35,
   "metadata": {
    "scrolled": true
   },
   "outputs": [
    {
     "name": "stdout",
     "output_type": "stream",
     "text": [
      "9\n",
      "[[  0   0   0   0   0   0   0   0   0   0   0   0   0   0   0   0   0   0   0   0   0   0   0   0   0   0   0   0]\n",
      " [  0   0   0   0   0   0   0   0   0   0   0   0   0   0   0   0   0   0   0   0   0   0   0   0   0   0   0   0]\n",
      " [  0   0   0   0   0   0   0   0   0   0   0   0   0   0   0   0   0   0   0   0   0   0   0   0   0   0   0   0]\n",
      " [  0   0   0   0   0   0   0   0   0   0   0   0   0   0   0   0   0   0   0   0   0   0   0   0   0   0   0   0]\n",
      " [  0   0   0   0   0   0   0   0   0   0   0   0   0   0   0   0   0   0   0   0   0   0   0   0   0   0   0   0]\n",
      " [  0   0   0   0   0   0   0   0   0   0   0   0   0   0  85 188 146  79   0   0   0   0   0   0   0   0   0   0]\n",
      " [  0   0   0   0   0   0   0   0   0   0   0   0   0   0 140 202 199 255 144   0   0   0   0  11 135 157   5   0]\n",
      " [  0   0   0   0   0   0   0   0   0   0   0   3   0   0 200 187 200 191 255  51   0   0  16 208 227 236  63   0]\n",
      " [  0   0   0   0   0   0   0   0   0   0   0   2   0  18 233 193 206 186 219 255 171 140 255 221 203 217  43   0]\n",
      " [  0   0   0   0   0   0   0   0   0   0   0   0   0 107 217 195 203 204 209 216 244 255 213 207 218 228  72   0]\n",
      " [  0   0   0   0   0   0   0   0   0   0   0   0   0 231 216 209 204 205 217 218 214 213 201 210 215 233 128   0]\n",
      " [  0   0   0   0   0   0   0   0   0   0   1   0  33 255 206 214 204 213 218 213 217 222 196 201 205 231 185   0]\n",
      " [  0   0   0   0   0   0   0   0   0   9   2   0 159 234 193 209 206 215 218 217 221 210 201 205 214 219 249   0]\n",
      " [  0   0   0   0   0   0   0   0   1   0   0  77 255 219 207 204 205 213 213 215 213 203 211 217 217 202 255  71]\n",
      " [  0   0   1   2   3   3   1   0   0   0 121 245 214 219 210 200 205 215 215 219 214 204 208 213 214 201 246 118]\n",
      " [  0   0   0   0   0   0   0   0  78 216 255 208 205 214 197 202 214 211 210 213 211 208 214 204 208 207 237 136]\n",
      " [  0   0   0   0  19  87 135 211 255 217 202 206 214 209 198 202 214 214 211 213 200 207 212 201 198 203 243 130]\n",
      " [  0  64 190 219 241 214 227 216 194 193 199 201 201 213 204 198 201 205 208 202 202 205 196 198 202 201 255  73]\n",
      " [ 23 214 209 198 198 195 200 194 212 201 201 203 204 211 204 199 199 195 194 181 187 212 208 201 212 219 245  11]\n",
      " [129 220 200 207 206 204 191 202 209 212 211 207 204 202 198 206 209 198 204 222 246 223 197 179 165 163 179   0]\n",
      " [125 232 211 205 213 212 215 216 214 207 200 197 200 197 205 204 213 226 240 176  91 163 164 159 162 173 198   0]\n",
      " [  0 146 212 229 215 213 203 198 206 203 202 202 197 196 208 227 225 112   0   0   0 185 160 161 155 167 204   0]\n",
      " [  0   0   5 117 211 237 255 244 231 225 216 220 228 255 245 122   0   0   0   0   0 231 214 212 221 201 228   6]\n",
      " [  0   2   0   0   0   0  66 116 160 191 207 207 200 120   0   0   0   0   2   0   0  95  85  79  67  51   0   0]\n",
      " [  0   0   0   0   0   0   0   0   0   0   0   0   0   0   0   0   0   0   0   0   0   0   0   0   0   0   0   0]\n",
      " [  0   0   0   0   0   0   0   0   0   0   0   0   0   0   0   0   0   0   0   0   0   0   0   0   0   0   0   0]\n",
      " [  0   0   0   0   0   0   0   0   0   0   0   0   0   0   0   0   0   0   0   0   0   0   0   0   0   0   0   0]\n",
      " [  0   0   0   0   0   0   0   0   0   0   0   0   0   0   0   0   0   0   0   0   0   0   0   0   0   0   0   0]]\n"
     ]
    },
    {
     "data": {
      "image/png": "[encoded data removed]",
      "text/plain": [
       "<Figure size 432x288 with 1 Axes>"
      ]
     },
     "metadata": {
      "needs_background": "light"
     },
     "output_type": "display_data"
    }
   ],
   "source": [
    "import matplotlib.pyplot as plt\n",
    "\n",
    "np.set_printoptions(linewidth=200)\n",
    "plt.imshow(training_images[15])\n",
    "print(training_labels[15])\n",
    "print(training_images[15])"
   ]
  },
  {
   "cell_type": "code",
   "execution_count": 6,
   "metadata": {},
   "outputs": [],
   "source": [
    "model = tf.keras.Sequential([\n",
    "    tf.keras.layers.Flatten(),\n",
    "    tf.keras.layers.Dense(128, activation=tf.nn.relu),\n",
    "    tf.keras.layers.Dense(10, activation=tf.nn.softmax)\n",
    "    \n",
    "])"
   ]
  },
  {
   "cell_type": "code",
   "execution_count": 13,
   "metadata": {},
   "outputs": [
    {
     "name": "stdout",
     "output_type": "stream",
     "text": [
      "Epoch 1/5\n",
      "1875/1875 [==============================] - 6s 3ms/step - loss: 0.5307 - accuracy: 0.8225\n",
      "Epoch 2/5\n",
      "1875/1875 [==============================] - 6s 3ms/step - loss: 0.5056 - accuracy: 0.8264\n",
      "Epoch 3/5\n",
      "1875/1875 [==============================] - 6s 3ms/step - loss: 0.4909 - accuracy: 0.8309\n",
      "Epoch 4/5\n",
      "1875/1875 [==============================] - 7s 4ms/step - loss: 0.4771 - accuracy: 0.8365\n",
      "Epoch 5/5\n",
      "1875/1875 [==============================] - 6s 3ms/step - loss: 0.4723 - accuracy: 0.8386\n"
     ]
    },
    {
     "data": {
      "text/plain": [
       "<tensorflow.python.keras.callbacks.History at 0x153220f26d0>"
      ]
     },
     "execution_count": 13,
     "metadata": {},
     "output_type": "execute_result"
    }
   ],
   "source": [
    "model.compile(optimizer= tf.keras.optimizers.Adam(), \n",
    "             loss = 'sparse_categorical_crossentropy',\n",
    "             metrics=['accuracy'])\n",
    "model.fit(training_images, training_labels, epochs=5, callbacks=[callbacks])\n",
    "            "
   ]
  },
  {
   "cell_type": "code",
   "execution_count": 14,
   "metadata": {},
   "outputs": [
    {
     "name": "stdout",
     "output_type": "stream",
     "text": [
      "313/313 [==============================] - 1s 2ms/step - loss: 0.5577 - accuracy: 0.8218\n"
     ]
    },
    {
     "data": {
      "text/plain": [
       "[0.5577301383018494, 0.8217999935150146]"
      ]
     },
     "execution_count": 14,
     "metadata": {},
     "output_type": "execute_result"
    }
   ],
   "source": [
    "model.evaluate(test_images, test_labels)"
   ]
  },
  {
   "cell_type": "code",
   "execution_count": 37,
   "metadata": {},
   "outputs": [
    {
     "name": "stdout",
     "output_type": "stream",
     "text": [
      "[5.8034901e-18 1.0000000e+00 1.4036796e-28 8.5389629e-12 1.7414357e-16 0.0000000e+00 1.0989808e-15 0.0000000e+00 3.8847284e-20 0.0000000e+00]\n"
     ]
    }
   ],
   "source": [
    "classifications = model.predict(test_images)\n",
    "print(classifications[15])"
   ]
  },
  {
   "cell_type": "code",
   "execution_count": 36,
   "metadata": {},
   "outputs": [
    {
     "name": "stdout",
     "output_type": "stream",
     "text": [
      "1\n"
     ]
    }
   ],
   "source": [
    "print(test_labels[15])"
   ]
  },
  {
   "cell_type": "code",
   "execution_count": null,
   "metadata": {},
   "outputs": [],
   "source": []
  }
 ],
 "metadata": {
  "kernelspec": {
   "display_name": "Python 3",
   "language": "python",
   "name": "python3"
  },
  "language_info": {
   "codemirror_mode": {
    "name": "ipython",
    "version": 3
   },
   "file_extension": ".py",
   "mimetype": "text/x-python",
   "name": "python",
   "nbconvert_exporter": "python",
   "pygments_lexer": "ipython3",
   "version": "3.8.2"
  }
 },
 "nbformat": 4,
 "nbformat_minor": 4
}
